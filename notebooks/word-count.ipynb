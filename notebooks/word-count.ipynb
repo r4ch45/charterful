{
 "cells": [
  {
   "cell_type": "code",
   "execution_count": 1,
   "id": "graduate-constraint",
   "metadata": {
    "execution": {
     "iopub.execute_input": "2021-04-06T14:08:33.601391Z",
     "iopub.status.busy": "2021-04-06T14:08:33.601391Z",
     "iopub.status.idle": "2021-04-06T14:08:33.681179Z",
     "shell.execute_reply": "2021-04-06T14:08:33.681179Z",
     "shell.execute_reply.started": "2021-04-06T14:08:33.601391Z"
    },
    "tags": []
   },
   "outputs": [
    {
     "name": "stderr",
     "output_type": "stream",
     "text": [
      "C:\\Users\\rachel.hassall\\.conda\\envs\\charterful\\lib\\site-packages\\nbformat\\current.py:15: UserWarning: nbformat.current is deprecated.\n",
      "\n",
      "- use nbformat for read/write/validate public API\n",
      "- use nbformat.vX directly to composing notebooks of a particular version\n",
      "\n",
      "  warnings.warn(\"\"\"nbformat.current is deprecated.\n"
     ]
    }
   ],
   "source": [
    "import io\n",
    "from nbformat import current\n",
    "import os\n",
    "\n",
    "def word_count_notebook(filename):\n",
    "    with io.open(filename, 'r', encoding='utf-8') as f:\n",
    "        nb = current.read(f, 'json')\n",
    "\n",
    "    word_count = 0\n",
    "    for cell in nb.worksheets[0].cells:\n",
    "        if cell.cell_type == \"markdown\":\n",
    "            word_count += len(cell['source'].replace('#', '').lstrip().split(' '))\n",
    "            \n",
    "    return word_count"
   ]
  },
  {
   "cell_type": "code",
   "execution_count": 2,
   "id": "drawn-chase",
   "metadata": {
    "execution": {
     "iopub.execute_input": "2021-04-06T14:08:34.159606Z",
     "iopub.status.busy": "2021-04-06T14:08:34.158602Z",
     "iopub.status.idle": "2021-04-06T14:08:34.330841Z",
     "shell.execute_reply": "2021-04-06T14:08:34.330841Z",
     "shell.execute_reply.started": "2021-04-06T14:08:34.159606Z"
    },
    "tags": []
   },
   "outputs": [
    {
     "name": "stdout",
     "output_type": "stream",
     "text": [
      "0-introduction.ipynb\n",
      "147\n",
      "1-why-are-gas-fired-powerstations-important.ipynb\n",
      "1228\n",
      "2-how-efficient-are-gas-fired-powerstations.ipynb\n",
      "581\n",
      "3-what-affects-efficiency.ipynb\n",
      "0\n",
      "Total Word Count: 1956\n"
     ]
    }
   ],
   "source": [
    "import re\n",
    "\n",
    "pattern = re.compile(r'^[0-9].*') # if string being with number\n",
    "\n",
    "total_word_count = 0\n",
    "for filename in os.listdir(\".\"):\n",
    "    if re.match(pattern, filename):\n",
    "        print(filename)\n",
    "        wc = word_count_notebook(filename)\n",
    "        print(wc)\n",
    "        total_word_count+=wc\n",
    "        \n",
    "print(f\"Total Word Count: {total_word_count}\")"
   ]
  },
  {
   "cell_type": "code",
   "execution_count": null,
   "id": "adequate-stadium",
   "metadata": {},
   "outputs": [],
   "source": []
  }
 ],
 "metadata": {
  "kernelspec": {
   "display_name": "Python 3",
   "language": "python",
   "name": "python3"
  },
  "language_info": {
   "codemirror_mode": {
    "name": "ipython",
    "version": 3
   },
   "file_extension": ".py",
   "mimetype": "text/x-python",
   "name": "python",
   "nbconvert_exporter": "python",
   "pygments_lexer": "ipython3",
   "version": "3.7.10"
  }
 },
 "nbformat": 4,
 "nbformat_minor": 5
}
