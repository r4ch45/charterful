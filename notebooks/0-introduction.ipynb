{
 "cells": [
  {
   "cell_type": "markdown",
   "id": "wound-malta",
   "metadata": {},
   "source": [
    "# Abstract\n",
    "\n",
    "[to do]"
   ]
  },
  {
   "cell_type": "markdown",
   "id": "ceramic-array",
   "metadata": {},
   "source": [
    "# Introduction\n",
    "\n",
    "Gas generated power stations (GGPS) are essential in balancing the UK electricity grid at the present time, and are forecasted to continue to play an important role in the future. This research takes a data driven approach to exploring the UK's GGPS, utilising open source data which is publically available. Firstly, we explore why GGPS are important and the role they play in balancing the network. Secondly, we deep dive in to examining the efficiency of UK gas fired powerstations and look to understand the factors affecting this, including gas volume, temperature, and calorific value. This research will allow gas and electricity system operators to GGPS to better understand and forecast future demand from GGPS. This in turn will enable the market on a short term basis to ensure supply meets demand. In the long term, this will inform investment decisions in the UK's energy capability from a whole energy system approach viewpoint."
   ]
  },
  {
   "cell_type": "code",
   "execution_count": null,
   "id": "green-rachel",
   "metadata": {},
   "outputs": [],
   "source": []
  }
 ],
 "metadata": {
  "kernelspec": {
   "display_name": "Python 3",
   "language": "python",
   "name": "python3"
  },
  "language_info": {
   "codemirror_mode": {
    "name": "ipython",
    "version": 3
   },
   "file_extension": ".py",
   "mimetype": "text/x-python",
   "name": "python",
   "nbconvert_exporter": "python",
   "pygments_lexer": "ipython3",
   "version": "3.9.2"
  }
 },
 "nbformat": 4,
 "nbformat_minor": 5
}
